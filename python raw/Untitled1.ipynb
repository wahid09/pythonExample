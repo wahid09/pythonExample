{
 "cells": [
  {
   "cell_type": "code",
   "execution_count": 12,
   "metadata": {},
   "outputs": [
    {
     "data": {
      "text/plain": [
       "'onion'"
      ]
     },
     "execution_count": 12,
     "metadata": {},
     "output_type": "execute_result"
    }
   ],
   "source": [
    "a = [1, 2, 3, 4, 'onion', 'book', 3.76]\n",
    "type(a)\n",
    "a[4]"
   ]
  },
  {
   "cell_type": "code",
   "execution_count": 14,
   "metadata": {},
   "outputs": [
    {
     "name": "stdout",
     "output_type": "stream",
     "text": [
      "Enter your Number10\n",
      "0\n",
      "2\n",
      "4\n",
      "6\n",
      "8\n"
     ]
    }
   ],
   "source": [
    "a = int(input(\"Enter your Number\"))\n",
    "for i in range (0, a):\n",
    "    if i%2 == 0:\n",
    "        print(i)"
   ]
  },
  {
   "cell_type": "code",
   "execution_count": 23,
   "metadata": {},
   "outputs": [
    {
     "name": "stdout",
     "output_type": "stream",
     "text": [
      "Enter your Number10\n",
      "*\n",
      "**\n",
      "***\n",
      "****\n",
      "*****\n",
      "******\n",
      "*******\n",
      "********\n",
      "*********\n",
      "**********\n"
     ]
    }
   ],
   "source": [
    "n = int(input(\"Enter your Number\"))\n",
    "for i in range (0, n):\n",
    "    for j in range (0, i+1):\n",
    "        print('*', end=\"\")\n",
    "    print(\"\\r\")"
   ]
  },
  {
   "cell_type": "code",
   "execution_count": 24,
   "metadata": {},
   "outputs": [
    {
     "name": "stdout",
     "output_type": "stream",
     "text": [
      "*\r\n",
      "**\r\n",
      "***\r\n",
      "****\r\n",
      "*****\r\n",
      "******\r\n"
     ]
    }
   ],
   "source": [
    "def pyramid(n):\n",
    "    for i in range (0, n):\n",
    "        for j in range (0, i+1):\n",
    "            print(\"*\", end=\"\")\n",
    "        print(\"\\r\")\n",
    "\n",
    "n = 6\n",
    "pyramid(n)"
   ]
  },
  {
   "cell_type": "code",
   "execution_count": 9,
   "metadata": {},
   "outputs": [
    {
     "name": "stdout",
     "output_type": "stream",
     "text": [
      "['potato', 'new', 'water', 1, 10, 3.234]\n",
      "['potato', 'new', 12, 1, 10, 'golalo']\n",
      "['potato', 'new', 12, 1, 10, 'golalo', 45]\n",
      "['potato', 'new', 12, 1, 10, 'golalo', 45, [89, 'fullkopi']]\n"
     ]
    },
    {
     "data": {
      "text/plain": [
       "'e'"
      ]
     },
     "execution_count": 9,
     "metadata": {},
     "output_type": "execute_result"
    }
   ],
   "source": [
    "n = ['potato', 'new', 'water', 1, 10, 3.234]\n",
    "print(n)\n",
    "n[2] = 12\n",
    "n[5] = 'golalo'\n",
    "print(n)\n",
    "n.append(45)\n",
    "print(n)\n",
    "n.append([89, 'fullkopi'])\n",
    "print(n)\n",
    "n[1][1]"
   ]
  },
  {
   "cell_type": "code",
   "execution_count": null,
   "metadata": {},
   "outputs": [],
   "source": []
  }
 ],
 "metadata": {
  "kernelspec": {
   "display_name": "Python 3",
   "language": "python",
   "name": "python3"
  },
  "language_info": {
   "codemirror_mode": {
    "name": "ipython",
    "version": 3
   },
   "file_extension": ".py",
   "mimetype": "text/x-python",
   "name": "python",
   "nbconvert_exporter": "python",
   "pygments_lexer": "ipython3",
   "version": "3.7.4"
  }
 },
 "nbformat": 4,
 "nbformat_minor": 2
}
