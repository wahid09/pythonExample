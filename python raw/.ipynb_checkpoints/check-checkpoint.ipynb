{
 "cells": [
  {
   "cell_type": "code",
   "execution_count": 1,
   "metadata": {},
   "outputs": [
    {
     "data": {
      "text/plain": [
       "15"
      ]
     },
     "execution_count": 1,
     "metadata": {},
     "output_type": "execute_result"
    }
   ],
   "source": [
    "6+9"
   ]
  },
  {
   "cell_type": "code",
   "execution_count": 2,
   "metadata": {},
   "outputs": [
    {
     "name": "stdout",
     "output_type": "stream",
     "text": [
      "Enter a number2\n",
      "1\n"
     ]
    }
   ],
   "source": [
    "n = int(input(\"Enter a number\"))\n",
    "for i in range(1, n):\n",
    "    print(i)"
   ]
  },
  {
   "cell_type": "code",
   "execution_count": 1,
   "metadata": {},
   "outputs": [
    {
     "name": "stdout",
     "output_type": "stream",
     "text": [
      "Enter your number5\n",
      "*\n",
      "**\n",
      "***\n",
      "****\n",
      "*****\n"
     ]
    }
   ],
   "source": [
    "n = int(input(\"Enter your number\"))\n",
    "for i in range(1, n+1):\n",
    "    for j in range(0, i):\n",
    "        print(\"*\", end=\"\")\n",
    "    print(\"\")"
   ]
  },
  {
   "cell_type": "code",
   "execution_count": 5,
   "metadata": {},
   "outputs": [
    {
     "name": "stdout",
     "output_type": "stream",
     "text": [
      "How many numbers: 5\n",
      "Enter number 12\n",
      "Enter number 23\n",
      "Enter number 45\n",
      "Enter number 43\n",
      "Enter number 23\n",
      "Maximum element in the list is : 45 \n",
      "Minimum element in the list is : 12\n"
     ]
    }
   ],
   "source": [
    "lst = []\n",
    "num = int(input('How many numbers: '))\n",
    "for n in range(num):\n",
    "    numbers = int(input('Enter number '))\n",
    "    lst.append(numbers)\n",
    "print(\"Maximum element in the list is :\", max(lst), \"\\nMinimum element in the list is :\", min(lst))"
   ]
  },
  {
   "cell_type": "code",
   "execution_count": 7,
   "metadata": {},
   "outputs": [
    {
     "name": "stdout",
     "output_type": "stream",
     "text": [
      "Enter the size: \t 8\n",
      " *** \n",
      "*   *\n",
      "*   *\n",
      "*   *\n",
      "*****\n",
      "*   *\n",
      "*   *\n",
      "*   *\n"
     ]
    }
   ],
   "source": [
    "def print_pattern(n): \n",
    "  \n",
    "    # Outer for loop for number of lines(rows) \n",
    "    for i in range(n): \n",
    "  \n",
    "        # Inner for loop for printing *'s and  &nbsp's(columns) \n",
    "        for j in range((n // 2) + 1): \n",
    "  \n",
    "            # prints two column lines \n",
    "            if ((j == 0 or j == n //2) and i != 0 or\n",
    "  \n",
    "                # print first line of alphabet \n",
    "                i == 0 and j != 0 and j != n // 2 or\n",
    "  \n",
    "                # prints middle line \n",
    "                i == n // 2): \n",
    "                print(\"*\", end = \"\") \n",
    "            else: \n",
    "                print(\" \", end = \"\") \n",
    "          \n",
    "        print()\n",
    "# Size of the letter\n",
    "num = int(input(\"Enter the size: \\t \"))\n",
    "if num > 7:\n",
    "    print_pattern(num)\n",
    "else:\n",
    "    print(\"Enter a size minumin of 8\")"
   ]
  },
  {
   "cell_type": "code",
   "execution_count": 8,
   "metadata": {},
   "outputs": [
    {
     "name": "stdout",
     "output_type": "stream",
     "text": [
      "4\n",
      "4\n",
      "3\n",
      "2\n",
      "1\n",
      "0\n"
     ]
    }
   ],
   "source": [
    "class revrange:\n",
    "    def __init__(self, n):\n",
    "        self.n = n\n",
    "        self.i = n\n",
    "    def __iter__(self):\n",
    "        return self\n",
    "    def __next__(self):\n",
    "        if self.n>=0:\n",
    "            if self.i == self.n:\n",
    "                self.n = self.n-1\n",
    "                return self.n\n",
    "            else:\n",
    "                self.i = self.n\n",
    "                self.n = self.n -1\n",
    "                return self.i\n",
    "        else:\n",
    "            raise StopIteration\n",
    "for temp in revrange(5):\n",
    "    print(temp)\n",
    "    "
   ]
  },
  {
   "cell_type": "code",
   "execution_count": null,
   "metadata": {},
   "outputs": [],
   "source": []
  }
 ],
 "metadata": {
  "kernelspec": {
   "display_name": "Python 3",
   "language": "python",
   "name": "python3"
  },
  "language_info": {
   "codemirror_mode": {
    "name": "ipython",
    "version": 3
   },
   "file_extension": ".py",
   "mimetype": "text/x-python",
   "name": "python",
   "nbconvert_exporter": "python",
   "pygments_lexer": "ipython3",
   "version": "3.7.4"
  }
 },
 "nbformat": 4,
 "nbformat_minor": 2
}
